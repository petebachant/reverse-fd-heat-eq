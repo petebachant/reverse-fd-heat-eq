{
 "cells": [
  {
   "cell_type": "markdown",
   "metadata": {},
   "source": [
    "# Automatically identifying governing partial differential equations with reverse finite differencing\n",
    "\n",
    "So far, most \"higher level\" physical knowledge has been derived from simpler first principles. However, these techniques have still not given a full understanding of turbulent flow. As such, it is of interes to find a different quantity, for which we can find some conservation or transport equation, that will be simpler to solve, e.g., does not have the scale resolution requirements of a direct numerical simulation.\n",
    "\n",
    "As a first step towards this goal, we want to see if the process of deriving physical laws or theories can be automated, i.e., can we posit a generic homogeneous PDE, such as\n",
    "$$\n",
    "A \\frac{\\partial u}{\\partial t} = B \\frac{\\partial u}{\\partial x} + C \\frac{\\partial^2 u}{\\partial x^2} ...\n",
    "$$\n",
    "then solve for the coefficients, eliminating the terms for which coefficients are small?\n",
    "\n",
    "For a first example, we analyze the heat or diffusion equation, for which an analytical solution can be obtained.\n",
    "We will use two terms we know apply, and one that doesn't\n",
    "\n",
    "$$\n",
    "A u_t = B u_x + C u_{xx} + D uu_x + E\n",
    "$$\n",
    "\n",
    "with the initial condition\n",
    "$$\n",
    "u(x, 0) = \\sin(4\\pi x)\n",
    "$$\n",
    "\n",
    "There exists an analytical solution\n",
    "$$\n",
    "u(x,t) = \\sin(4\\pi x) e^{-16\\pi^2 \\nu t}\n",
    "$$\n",
    "\n",
    "We can find each partial derivative\n",
    "$$\n",
    "u_t = -16\\pi^2 \\nu \\sin(4\\pi x) e^{-16\\pi^2 \\nu t}\n",
    "$$\n",
    "$$\n",
    "u_x = 4\\pi \\cos(4\\pi x) e^{-16\\pi^2 \\nu t}\n",
    "$$\n",
    "$$\n",
    "u_{xx} = -16 \\pi^2 \\sin(4\\pi x) e^{-16\\pi^2 \\nu t}\n",
    "$$"
   ]
  },
  {
   "cell_type": "code",
   "execution_count": 3,
   "metadata": {
    "collapsed": false
   },
   "outputs": [],
   "source": [
    "import numpy as np\n",
    "\n",
    "# Specify diffusion coefficient\n",
    "nu = 0.1\n",
    "\n",
    "# Initialize u, x, and t vectors\n",
    "xmax = 1.0\n",
    "dx = xmax/50\n",
    "x = np.arange(0, xmax, dx)\n",
    "tmax = 0.2\n",
    "dt = tmax/100\n",
    "t = np.arange(0, tmax, dt)\n",
    "u = np.zeros((len(t), len(x))) # rows are timesteps\n",
    "\n",
    "# Compute analytical solution\n",
    "for n in range(len(t)):\n",
    "\tu[n, :] = np.sin(4*np.pi*x)*np.exp(-16*np.pi**2*nu*t[n])"
   ]
  },
  {
   "cell_type": "code",
   "execution_count": 4,
   "metadata": {
    "collapsed": false
   },
   "outputs": [
    {
     "name": "stdout",
     "output_type": "stream",
     "text": [
      "0.0\n"
     ]
    }
   ],
   "source": [
    "# Create vectors for partial derivatives\n",
    "u_t = np.zeros(u.shape)\n",
    "u_x = np.zeros(u.shape)\n",
    "u_xx = np.zeros(u.shape)\n",
    "\n",
    "for n in range(len(t)):\n",
    "    u_t[n, :] = -16*np.pi**2*nu*np.sin(4*np.pi*x)*np.exp(-16*np.pi**2*nu*t[n])\n",
    "    u_x[n, :] = 4*np.pi*np.cos(4*np.pi*x)*np.exp(-16*np.pi**2*nu*t[n])\n",
    "    u_xx[n, :] = -16*np.pi**2*np.sin(4*np.pi*x)*np.exp(-16*np.pi**2*nu*t[n])\n",
    "    \n",
    "# Compute a convective term (that we know should have no effect)\n",
    "uu_x = u*u_x\n",
    "\n",
    "# Check to make sure some random point satisfies the PDE\n",
    "i,j = 15,21\n",
    "print(u_t[i,j] - nu*u_xx[i,j])"
   ]
  },
  {
   "cell_type": "code",
   "execution_count": 6,
   "metadata": {
    "collapsed": false
   },
   "outputs": [
    {
     "name": "stdout",
     "output_type": "stream",
     "text": [
      "[[  1.00000000e+00   1.00165863e-17   1.00000000e-01   5.52825932e-18\n",
      "   -2.12841927e-16]]\n"
     ]
    }
   ],
   "source": [
    "\"\"\"Try a solution using a matrix\"\"\"\n",
    "\n",
    "def null(A, eps=1e-15):\n",
    "    u, s, vh = np.linalg.svd(A)\n",
    "    null_space = np.compress(s <= eps, vh, axis=0)\n",
    "    return null_space.T\n",
    "\n",
    "# Pick some indices out of the field -- somewhat random points in space and time\n",
    "i, j = 1, 32\n",
    "i1, j1 = 2, 40\n",
    "i2, j2 = 7, 23\n",
    "i3, j3 = 32, 12\n",
    "i4, j4 = 13, 31\n",
    "\n",
    "# Now let's make these matrices and solve for our differential equation\n",
    "K = np.matrix([[u_t[i,j], -u_x[i,j], -u_xx[i,j], -uu_x[i,j], -1.0],\n",
    "               [u_t[i1,j1], -u_x[i1,j1], -u_xx[i1,j1], -uu_x[i1,j1], -1.0],\n",
    "               [u_t[i2,j2], -u_x[i2,j2], -u_xx[i2,j2], -uu_x[i2,j2], -1.0],\n",
    "               [u_t[i3,j3], -u_x[i3,j3], -u_xx[i3,j3], -uu_x[i3,j3], -1.0],\n",
    "               [u_t[i4,j4], -u_x[i4,j4], -u_xx[i4,j4], -uu_x[i4,j4], -1.0]\n",
    "              ])\n",
    "M = null(K)\n",
    "print(M.T/M[0])"
   ]
  },
  {
   "cell_type": "markdown",
   "metadata": {},
   "source": [
    "So we see that this approach tells us that our data fits the equation\n",
    "\n",
    "$$\n",
    "u_t = 0u_x + 0.1u_{xx} + 0uu_x + 0, \n",
    "$$\n",
    "or\n",
    "$$\n",
    "u_t = \\nu u_{xx}\n",
    "$$\n",
    "\n",
    "which is the actual governing equation!"
   ]
  },
  {
   "cell_type": "code",
   "execution_count": 9,
   "metadata": {
    "collapsed": false
   },
   "outputs": [
    {
     "name": "stdout",
     "output_type": "stream",
     "text": [
      "[[  1.00000000e+00   3.63389004e-16   1.00000000e-01   2.05776903e-15\n",
      "    2.67294524e-16]]\n"
     ]
    }
   ],
   "source": [
    "\"\"\"Now let's automate the matrix creation process a bit using random indices\"\"\"\n",
    "nterms = 5 # total number of terms in the equation\n",
    "ni, nj = u.shape\n",
    "K = np.zeros((5,5))\n",
    "\n",
    "for n in range(nterms):\n",
    "    i = int(np.random.rand()*(ni-1))\n",
    "    j = int(np.random.rand()*(nj-1))\n",
    "    K[n,0] = u_t[i,j]\n",
    "    K[n,1] = -u_x[i,j]\n",
    "    K[n,2] = -u_xx[i,j]\n",
    "    K[n,3] = -uu_x[i,j]\n",
    "    K[n,4] = -1.0\n",
    "    \n",
    "M = null(K)\n",
    "print(M.T/M[0])"
   ]
  },
  {
   "cell_type": "markdown",
   "metadata": {},
   "source": [
    "## Would this method work with experimental data?\n",
    "\n",
    "Imagine we had various \"probes\" on a physical model of a heat conducting system, which were sampled in time.\n",
    "\n",
    "We can sample the analytical solution at specified points, but add some Gaussian noise to approximate a sensor in the real works. Can we still unveil the heat equation?"
   ]
  },
  {
   "cell_type": "markdown",
   "metadata": {},
   "source": [
    "## Future applications\n",
    "\n",
    "The example presented here may be trivial, as we examined the known analytical solution to a linear PDE. It would of course be of interest to apply this to a real world problem. For example, we might apply this technique to a direct numerical simulation of turbulent flow. After either Reynolds averaging or filtering the \"exact\" numerical solution (i.e., large eddy simulation), we may be able to find new PDEs that describe the system in terms of these lower resolution sampling techniques. "
   ]
  }
 ],
 "metadata": {
  "anaconda-cloud": {},
  "kernelspec": {
   "display_name": "Python [default]",
   "language": "python",
   "name": "python3"
  },
  "language_info": {
   "codemirror_mode": {
    "name": "ipython",
    "version": 3
   },
   "file_extension": ".py",
   "mimetype": "text/x-python",
   "name": "python",
   "nbconvert_exporter": "python",
   "pygments_lexer": "ipython3",
   "version": "3.5.2"
  }
 },
 "nbformat": 4,
 "nbformat_minor": 0
}
