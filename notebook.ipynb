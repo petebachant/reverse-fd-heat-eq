{
 "cells": [
  {
   "cell_type": "markdown",
   "metadata": {},
   "source": [
    "# Automatically identifying governing partial differential equations with reverse finite differencing\n",
    "\n",
    "<center>\n",
    "P. Bachant\n",
    "</center>\n",
    "\n",
    "So far, most \"higher level\" physical knowledge has been derived from simpler first principles. However, these techniques have still not given a fully predictive understanding of turbulent flow. We have the governing equations (Navier--Stokes), but can't solve them for most useful cases. As such, it could be of interest to find a different quantity, other than momentum, for which we can find some conservation or transport equation, that will be simpler to solve, e.g., does not have the scale resolution requirements of a direct numerical simulation.\n",
    "\n",
    "As a first step towards this goal, we want to see if the process of deriving physical laws or theories can be automated, i.e., can we posit a generic homogeneous PDE, such as\n",
    "$$\n",
    "A \\frac{\\partial u}{\\partial t} = B \\frac{\\partial u}{\\partial x} + C \\frac{\\partial^2 u}{\\partial x^2} ...\n",
    "$$\n",
    "then solve for the coefficients $[A, B, C,...]$, eliminate the terms for which coefficients are small, then be left with an analytically or computationally feasible equation?\n",
    "\n",
    "For a first example, we analyze the heat or diffusion equation, for which an analytical solution can be obtained.\n",
    "We will use two terms we know apply, and one that doesn't\n",
    "\n",
    "$$\n",
    "A u_t = B u_x + C u_{xx} + D uu_x + E\n",
    "$$\n",
    "\n",
    "with the initial condition\n",
    "$$\n",
    "u(x, 0) = \\sin(4\\pi x)\n",
    "$$\n",
    "\n",
    "There exists an analytical solution\n",
    "$$\n",
    "u(x,t) = \\sin(4\\pi x) e^{-16\\pi^2 \\nu t}\n",
    "$$\n",
    "\n",
    "We can find each partial derivative analytically as well:\n",
    "$$\n",
    "u_t = -16\\pi^2 \\nu \\sin(4\\pi x) e^{-16\\pi^2 \\nu t}\n",
    "$$\n",
    "$$\n",
    "u_x = 4\\pi \\cos(4\\pi x) e^{-16\\pi^2 \\nu t}\n",
    "$$\n",
    "$$\n",
    "u_{xx} = -16 \\pi^2 \\sin(4\\pi x) e^{-16\\pi^2 \\nu t}\n",
    "$$"
   ]
  },
  {
   "cell_type": "code",
   "execution_count": 190,
   "metadata": {
    "collapsed": false
   },
   "outputs": [],
   "source": [
    "import numpy as np\n",
    "\n",
    "# Specify diffusion coefficient\n",
    "nu = 0.1\n",
    "\n",
    "def analytical_soln(xmax=1.0, tmax=0.2, nx=1000, nt=1000):\n",
    "    \"\"\"Compute analytical solution.\"\"\"\n",
    "    x = np.linspace(0, xmax, num=nx)\n",
    "    t = np.linspace(0, tmax, num=nt)\n",
    "    u = np.zeros((len(t), len(x))) # rows are timesteps\n",
    "    for n, t_ind in enumerate(t):\n",
    "        u[n, :] = np.sin(4*np.pi*x)*np.exp(-16*np.pi**2*nu*t_ind)\n",
    "    return u, x, t"
   ]
  },
  {
   "cell_type": "code",
   "execution_count": 191,
   "metadata": {
    "collapsed": false
   },
   "outputs": [
    {
     "name": "stdout",
     "output_type": "stream",
     "text": [
      "4.4408920985e-16\n"
     ]
    }
   ],
   "source": [
    "u, x, t = analytical_soln()\n",
    "\n",
    "# Create vectors for analytical partial derivatives\n",
    "u_t = np.zeros(u.shape)\n",
    "u_x = np.zeros(u.shape)\n",
    "u_xx = np.zeros(u.shape)\n",
    "\n",
    "for n in range(len(t)):\n",
    "    u_t[n, :] = -16*np.pi**2*nu*np.sin(4*np.pi*x)*np.exp(-16*np.pi**2*nu*t[n])\n",
    "    u_x[n, :] = 4*np.pi*np.cos(4*np.pi*x)*np.exp(-16*np.pi**2*nu*t[n])\n",
    "    u_xx[n, :] = -16*np.pi**2*np.sin(4*np.pi*x)*np.exp(-16*np.pi**2*nu*t[n])\n",
    "    \n",
    "# Compute a nonlinear convective term (that we know should have no effect)\n",
    "uu_x = u*u_x\n",
    "\n",
    "# Check to make sure some random point satisfies the PDE\n",
    "i, j = 15, 21\n",
    "print(u_t[i, j] - nu*u_xx[i, j])"
   ]
  },
  {
   "cell_type": "code",
   "execution_count": 192,
   "metadata": {
    "collapsed": false
   },
   "outputs": [
    {
     "name": "stdout",
     "output_type": "stream",
     "text": [
      "A = 1.0\n",
      "B = 0.0\n",
      "C = 0.1\n",
      "D = -0.0\n",
      "E = -0.0\n"
     ]
    }
   ],
   "source": [
    "\"\"\"Try a solution using a matrix\"\"\"\n",
    "\n",
    "def null(A, eps=1e-15):\n",
    "    u, s, vh = np.linalg.svd(A)\n",
    "    null_space = np.compress(s <= eps, vh, axis=0)\n",
    "    return null_space.T\n",
    "\n",
    "# Pick some indices out of the field -- somewhat random points in space and time\n",
    "i, j = 1, 32\n",
    "i1, j1 = 2, 40\n",
    "i2, j2 = 7, 23\n",
    "i3, j3 = 32, 12\n",
    "i4, j4 = 13, 31\n",
    "\n",
    "# Now let's make these matrices and solve for our differential equation\n",
    "K = np.array([[u_t[i, j], -u_x[i, j], -u_xx[i, j], -uu_x[i, j], -1.0],\n",
    "              [u_t[i1, j1], -u_x[i1, j1], -u_xx[i1, j1], -uu_x[i1, j1], -1.0],\n",
    "              [u_t[i2, j2], -u_x[i2, j2], -u_xx[i2, j2], -uu_x[i2, j2], -1.0],\n",
    "              [u_t[i3, j3], -u_x[i3, j3], -u_xx[i3, j3], -uu_x[i3, j3], -1.0],\n",
    "              [u_t[i4, j4], -u_x[i4, j4], -u_xx[i4, j4], -uu_x[i4, j4], -1.0]\n",
    "             ])\n",
    "\n",
    "M = null(K, eps=1e-10)\n",
    "coeffs = (M.T/M[0])[0]\n",
    "for letter, coeff in zip(\"ABCDE\", coeffs):\n",
    "    print(letter, \"=\", np.round(coeff, decimals=3))"
   ]
  },
  {
   "cell_type": "markdown",
   "metadata": {},
   "source": [
    "So we see that this approach tells us that our data fits the equation\n",
    "\n",
    "$$\n",
    "u_t = 0u_x + 0.1u_{xx} + 0uu_x + 0, \n",
    "$$\n",
    "or\n",
    "$$\n",
    "u_t = \\nu u_{xx}\n",
    "$$\n",
    "\n",
    "which is what we expected!"
   ]
  },
  {
   "cell_type": "code",
   "execution_count": 193,
   "metadata": {
    "collapsed": false
   },
   "outputs": [
    {
     "name": "stdout",
     "output_type": "stream",
     "text": [
      "A = 1.0\n",
      "B = -0.0\n",
      "C = 0.1\n",
      "D = 0.0\n",
      "E = -0.0\n"
     ]
    }
   ],
   "source": [
    "# Now let's automate the matrix creation process a bit using random indices\n",
    "\n",
    "nterms = 5 # total number of terms in the equation\n",
    "ni, nj = u.shape\n",
    "K = np.zeros((5, 5))\n",
    "\n",
    "for n in range(nterms):\n",
    "    i = int(np.random.rand()*(ni - 1))\n",
    "    j = int(np.random.rand()*(nj - 1))\n",
    "    K[n, 0] = u_t[i, j]\n",
    "    K[n, 1] = -u_x[i, j]\n",
    "    K[n, 2] = -u_xx[i, j]\n",
    "    K[n, 3] = -uu_x[i, j]\n",
    "    K[n, 4] = -1.0\n",
    "    \n",
    "M = null(K, eps=1e-5)\n",
    "coeffs = (M.T/M[0])[0]\n",
    "for letter, coeff in zip(\"ABCDE\", coeffs):\n",
    "    print(letter, \"=\", np.round(coeff, decimals=5))"
   ]
  },
  {
   "cell_type": "markdown",
   "metadata": {},
   "source": [
    "## Would this method work with finite differences of experimental data?\n",
    "\n",
    "Until now, we've been using analytical partial derivatives from the exact solution. However, imagine we had various \"probes\" on a physical model of a heat conducting system, which were sampled in time. We can sample the analytical solution at specified points, but add some Gaussian noise to approximate a sensor in the real world. Can we still unveil the heat equation?"
   ]
  },
  {
   "cell_type": "code",
   "execution_count": 206,
   "metadata": {
    "collapsed": false
   },
   "outputs": [
    {
     "name": "stdout",
     "output_type": "stream",
     "text": [
      "Coefficients for noise amplitude: 1e-16\n",
      "A = 1.0\n",
      "B = 0.0\n",
      "C = 0.1\n",
      "D = -0.0\n",
      "E = 0.0\n",
      "\n",
      "Coefficients for noise amplitude: 3.16227766017e-14\n",
      "A = 1.0\n",
      "B = -0.0\n",
      "C = 0.1\n",
      "D = 0.0\n",
      "E = -0.0\n",
      "\n",
      "Coefficients for noise amplitude: 1e-11\n",
      "A = 1.0\n",
      "B = 0.0\n",
      "C = 0.1\n",
      "D = 0.0\n",
      "E = 0.0\n",
      "\n",
      "Coefficients for noise amplitude: 3.16227766017e-09\n",
      "A = 1.0\n",
      "B = -0.0\n",
      "C = 0.1\n",
      "D = -0.0\n",
      "E = 0.0\n",
      "\n",
      "Coefficients for noise amplitude: 1e-06\n",
      "FAILED\n",
      "\n"
     ]
    }
   ],
   "source": [
    "# We'll need to actually compute finite differences\n",
    "\n",
    "def diff(dept_var, indept_var, index=None, n_deriv=1):\n",
    "    \"\"\"Compute the derivative of the dependent variable w.r.t. the independent at the\n",
    "    specified array index. Uses NumPy's `gradient` function, which uses second order\n",
    "    central differences if possible, and can use second order forward or backward \n",
    "    differences. Input values must be evenly spaced.\n",
    "    \n",
    "    Parameters\n",
    "    ----------\n",
    "    dept_var : array of floats\n",
    "    indept_var : array of floats\n",
    "    index : int\n",
    "        Index at which to return the numerical derivative\n",
    "    n_deriv : int\n",
    "        Order of the derivative (not the numerical scheme)\n",
    "    \"\"\"\n",
    "    # Rename input variables\n",
    "    u = dept_var.copy()\n",
    "    x = indept_var.copy()\n",
    "    dx = x[1] - x[0]\n",
    "    for n in range(n_deriv):\n",
    "        dudx = np.gradient(u, dx, edge_order=2)\n",
    "        u = dudx.copy()\n",
    "    if index is not None:\n",
    "        return dudx[index]\n",
    "    else:\n",
    "        return dudx\n",
    "\n",
    "\n",
    "# Test this with a sine\n",
    "from numpy.testing import assert_almost_equal\n",
    "x = np.linspace(0, 6.28, num=1000)\n",
    "u = np.sin(x)\n",
    "dudx = diff(u, x)\n",
    "d2udx2 = diff(u, x, n_deriv=2)\n",
    "assert_almost_equal(dudx, np.cos(x), decimal=5)\n",
    "assert_almost_equal(d2udx2, -u, decimal=2)\n",
    "\n",
    "\n",
    "def detect_coeffs(noise_amplitude=0.0):\n",
    "    \"\"\"Detect coefficients from analytical solution.\"\"\"\n",
    "    u, x, t = analytical_soln(nx=500, nt=500)\n",
    "    # Add Gaussian noise to u\n",
    "    u += np.random.randn(*u.shape) * noise_amplitude\n",
    "    nterms = 5 # total number of terms in the equation\n",
    "    ni, nj = u.shape\n",
    "    K = np.zeros((5, 5))\n",
    "    for n in range(nterms):\n",
    "        i = int(np.random.rand()*(ni - 1))\n",
    "        j = int(np.random.rand()*(nj - 1))\n",
    "        u_t = diff(u[:, j], t, index=i)\n",
    "        u_x = diff(u[i, :], x, index=j)\n",
    "        u_xx = diff(u[i, :], x, index=j, n_deriv=2)\n",
    "        uu_x = u[i, j] * u_x\n",
    "        K[n, 0] = u_t\n",
    "        K[n, 1] = -u_x\n",
    "        K[n, 2] = -u_xx\n",
    "        K[n, 3] = -uu_x\n",
    "        K[n, 4] = -1.0\n",
    "    M = null(K, eps=1e-3)\n",
    "    coeffs = (M.T/M[0])[0]\n",
    "    for letter, coeff in zip(\"ABCDE\", coeffs):\n",
    "        print(letter, \"=\", np.round(coeff, decimals=3))\n",
    "        \n",
    "\n",
    "for noise_level in np.logspace(-16, -6, num=5):\n",
    "    print(\"Coefficients for noise amplitude:\", noise_level)\n",
    "    try:\n",
    "        detect_coeffs(noise_amplitude=noise_level)\n",
    "    except ValueError:\n",
    "        print(\"FAILED\")\n",
    "    print(\"\")"
   ]
  },
  {
   "cell_type": "markdown",
   "metadata": {},
   "source": [
    "## Conclusions and future work\n",
    "\n",
    "A simple algorithm was developed to detect the governing PDE from a given analytical solution. The algorithm uses \"reverse\" finite differences to sample the solution at random points, assembles a linear system of equations, and solves these using singular value decomposition to find the constant, homogeneous coefficients associated with terms of interest. Using an analytical solution to the heat equation, the algorithm successfully identified that the system's evolution was only affected by diffusion, whereas additional terms for convection and first order wave propagation were considered.\n",
    "\n",
    "When subjected to Gaussian noise (to simulate experimental data), the algorithm failed for noise amplitudes roughly 6 orders of magnitude smaller than the amplitude of the initial condition. This shows an important weakness for looking at noisy data or higher derivatives, and may necessitate filtering or more robust linear solution techniques.\n",
    "\n",
    "The example presented here is admittedly trivial. However, it could be used to develop new theories or models for more complex systems, e.g., turbulent flow. For example, we may take the Reynolds-averaged Navier--Stokes equations:\n",
    "$$\n",
    "\\frac{\\partial U_i}{\\partial t} + U_j \\frac{\\partial U_i}{\\partial x_j}\n",
    "= -\\frac{1}{\\rho}\\frac{\\partial P}{\\partial x_i} + \\nu \\frac{\\partial^2 U_i}{\\partial x_j^2}\n",
    "  -\\frac{\\partial}{\\partial x_j} \\overline{u_i^\\prime u_j^\\prime},\n",
    "$$\n",
    "and attempt to solve for the Reynolds stresses (the last term on the RHS, i.e., the \"closure problem\") in terms of many combinations of the mean velocity and/or pressure, and their partial derivatives---where numerical values for all could be computed from a direct numerical simulation (DNS) of the exact Navier--Stokes equations.\n",
    "\n",
    "Most likely, resulting equations would not be theoretically correct, and the dimensions of their coefficients may not be able to be formulated in terms of physical parameters. However, the equations would still satisfy the exact equations within some tolerance, and could prove to be useful models that would not have been derived via conventional analytical or phenomenological means."
   ]
  }
 ],
 "metadata": {
  "anaconda-cloud": {},
  "kernelspec": {
   "display_name": "Python [default]",
   "language": "python",
   "name": "python3"
  },
  "language_info": {
   "codemirror_mode": {
    "name": "ipython",
    "version": 3
   },
   "file_extension": ".py",
   "mimetype": "text/x-python",
   "name": "python",
   "nbconvert_exporter": "python",
   "pygments_lexer": "ipython3",
   "version": "3.5.2"
  }
 },
 "nbformat": 4,
 "nbformat_minor": 0
}
