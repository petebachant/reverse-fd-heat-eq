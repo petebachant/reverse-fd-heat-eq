{
 "cells": [
  {
   "cell_type": "markdown",
   "metadata": {},
   "source": [
    "Deriving the heat equation from the solution\n",
    "============================================\n",
    "\n",
    "We will use two terms we know apply, and one that doesn't\n",
    "\n",
    "$$\n",
    "A u_t = B u_x + C u_{xx} + D uu_x + E\n",
    "$$\n",
    "\n",
    "with the initial condition\n",
    "$$\n",
    "u(x, 0) = \\sin(4\\pi x)\n",
    "$$\n",
    "\n",
    "There exists an analytical solution\n",
    "$$\n",
    "u(x,t) = \\sin(4\\pi x) e^{-16\\pi^2 \\nu t}\n",
    "$$\n",
    "\n",
    "We can find each partial derivative\n",
    "$$\n",
    "u_t = -16\\pi^2 \\nu \\sin(4\\pi x) e^{-16\\pi^2 \\nu t}\n",
    "$$\n",
    "$$\n",
    "u_x = 4\\pi \\cos(4\\pi x) e^{-16\\pi^2 \\nu t}\n",
    "$$\n",
    "$$\n",
    "u_{xx} = -16 \\pi^2 \\sin(4\\pi x) e^{-16\\pi^2 \\nu t}\n",
    "$$"
   ]
  },
  {
   "cell_type": "code",
   "execution_count": null,
   "metadata": {
    "collapsed": false
   },
   "outputs": [],
   "source": [
    "import numpy as np\n",
    "\n",
    "# Specify diffusion coefficient\n",
    "nu = 0.1\n",
    "\n",
    "# Initialize u, x, and t vectors\n",
    "xmax = 1.0\n",
    "dx = xmax/50\n",
    "x = np.arange(0, xmax, dx)\n",
    "tmax = 0.2\n",
    "dt = tmax/100\n",
    "t = np.arange(0, tmax, dt)\n",
    "u = np.zeros((len(t), len(x))) # rows are timesteps\n",
    "\n",
    "# Compute analytical solution\n",
    "for n in range(len(t)):\n",
    "\tu[n, :] = np.sin(4*np.pi*x)*np.exp(-16*np.pi**2*nu*t[n])"
   ]
  },
  {
   "cell_type": "code",
   "execution_count": null,
   "metadata": {
    "collapsed": false
   },
   "outputs": [],
   "source": [
    "# Create vectors for partial derivatives\n",
    "u_t = np.zeros(u.shape)\n",
    "u_x = np.zeros(u.shape)\n",
    "u_xx = np.zeros(u.shape)\n",
    "\n",
    "for n in xrange(len(t)):\n",
    "    u_t[n, :] = -16*np.pi**2*nu*np.sin(4*np.pi*x)*np.exp(-16*np.pi**2*nu*t[n])\n",
    "    u_x[n, :] = 4*np.pi*np.cos(4*np.pi*x)*np.exp(-16*np.pi**2*nu*t[n])\n",
    "    u_xx[n, :] = -16*np.pi**2*np.sin(4*np.pi*x)*np.exp(-16*np.pi**2*nu*t[n])\n",
    "    \n",
    "# Compute a convective term (that we know should have no effect)\n",
    "uu_x = u*u_x\n",
    "\n",
    "# Check to make sure some random point satisfies the PDE\n",
    "i,j = 15,21\n",
    "print(u_t[i,j] - nu*u_xx[i,j])"
   ]
  },
  {
   "cell_type": "code",
   "execution_count": null,
   "metadata": {
    "collapsed": false
   },
   "outputs": [],
   "source": [
    "\"\"\"Try a solution using a matrix\"\"\"\n",
    "\n",
    "def null(A, eps=1e-15):\n",
    "    u, s, vh = np.linalg.svd(A)\n",
    "    null_space = np.compress(s <= eps, vh, axis=0)\n",
    "    return null_space.T\n",
    "\n",
    "# Pick some indices out of the field -- somewhat random points in space and time\n",
    "i, j = 1, 32\n",
    "i1, j1 = 2, 40\n",
    "i2, j2 = 7, 23\n",
    "i3, j3 = 32, 12\n",
    "i4, j4 = 13, 31\n",
    "\n",
    "# Now let's make these matrices and solve for our differential equation\n",
    "K = np.matrix([[u_t[i,j], -u_x[i,j], -u_xx[i,j], -uu_x[i,j], -1.0],\n",
    "               [u_t[i1,j1], -u_x[i1,j1], -u_xx[i1,j1], -uu_x[i1,j1], -1.0],\n",
    "               [u_t[i2,j2], -u_x[i2,j2], -u_xx[i2,j2], -uu_x[i2,j2], -1.0],\n",
    "               [u_t[i3,j3], -u_x[i3,j3], -u_xx[i3,j3], -uu_x[i3,j3], -1.0],\n",
    "               [u_t[i4,j4], -u_x[i4,j4], -u_xx[i4,j4], -uu_x[i4,j4], -1.0]\n",
    "              ])\n",
    "M = null(K)\n",
    "print M.T/M[0]"
   ]
  },
  {
   "cell_type": "markdown",
   "metadata": {},
   "source": [
    "So we see that this approach tells us that our data fits the equation\n",
    "\n",
    "$$\n",
    "u_t = 0u_x + 0.1u_{xx} + 0uu_x + 0, \n",
    "$$\n",
    "or\n",
    "$$\n",
    "u_t = \\nu u_{xx}\n",
    "$$\n",
    "\n",
    "which is the actual governing equation!"
   ]
  },
  {
   "cell_type": "code",
   "execution_count": null,
   "metadata": {
    "collapsed": false
   },
   "outputs": [],
   "source": [
    "\"\"\"Now let's automate the matrix creation process a bit using random indices\"\"\"\n",
    "nterms = 5 # total number of terms in the equation\n",
    "ni, nj = u.shape\n",
    "K = np.zeros((5,5))\n",
    "\n",
    "for n in xrange(nterms):\n",
    "    i = int(np.random.rand()*(ni-1))\n",
    "    j = int(np.random.rand()*(nj-1))\n",
    "    K[n,0] = u_t[i,j]\n",
    "    K[n,1] = -u_x[i,j]\n",
    "    K[n,2] = -u_xx[i,j]\n",
    "    K[n,3] = -uu_x[i,j]\n",
    "    K[n,4] = -1.0\n",
    "    \n",
    "M = null(K)\n",
    "print M.T/M[0]"
   ]
  },
  {
   "cell_type": "code",
   "execution_count": null,
   "metadata": {
    "collapsed": false
   },
   "outputs": [],
   "source": []
  }
 ],
 "metadata": {
  "anaconda-cloud": {},
  "kernelspec": {
   "display_name": "Python [default]",
   "language": "python",
   "name": "python3"
  },
  "language_info": {
   "codemirror_mode": {
    "name": "ipython",
    "version": 3
   },
   "file_extension": ".py",
   "mimetype": "text/x-python",
   "name": "python",
   "nbconvert_exporter": "python",
   "pygments_lexer": "ipython3",
   "version": "3.5.2"
  }
 },
 "nbformat": 4,
 "nbformat_minor": 0
}
